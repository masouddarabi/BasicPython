{
 "cells": [
  {
   "cell_type": "markdown",
   "metadata": {},
   "source": [
    "## Get started"
   ]
  },
  {
   "cell_type": "code",
   "execution_count": 18,
   "metadata": {},
   "outputs": [
    {
     "name": "stdout",
     "output_type": "stream",
     "text": [
      "Hello World!\n"
     ]
    }
   ],
   "source": [
    "print(\"Hello World!\")"
   ]
  },
  {
   "cell_type": "markdown",
   "metadata": {},
   "source": [
    "## Data types"
   ]
  },
  {
   "cell_type": "code",
   "execution_count": 19,
   "metadata": {},
   "outputs": [
    {
     "name": "stdout",
     "output_type": "stream",
     "text": [
      "<class 'int'>\n"
     ]
    }
   ],
   "source": [
    "# integer: ...,-1,0,1,...\n",
    "i = 10\n",
    "print(type(i))"
   ]
  },
  {
   "cell_type": "code",
   "execution_count": 20,
   "metadata": {},
   "outputs": [
    {
     "name": "stdout",
     "output_type": "stream",
     "text": [
      "<class 'float'>\n"
     ]
    }
   ],
   "source": [
    "# float: -1.2, 3.4, 6.85, ...\n",
    "f = -2.1\n",
    "print(type(f))"
   ]
  },
  {
   "cell_type": "code",
   "execution_count": 21,
   "metadata": {},
   "outputs": [
    {
     "name": "stdout",
     "output_type": "stream",
     "text": [
      "<class 'complex'>\n"
     ]
    }
   ],
   "source": [
    "# complex: a + bj\n",
    "c = 2 + 8j\n",
    "print(type(c))"
   ]
  },
  {
   "cell_type": "code",
   "execution_count": 22,
   "metadata": {},
   "outputs": [
    {
     "name": "stdout",
     "output_type": "stream",
     "text": [
      "<class 'str'>\n"
     ]
    }
   ],
   "source": [
    "# string: 'text', \"text\", '''text'''\n",
    "s = \"text\"\n",
    "print(type(s))"
   ]
  },
  {
   "cell_type": "code",
   "execution_count": 23,
   "metadata": {},
   "outputs": [
    {
     "name": "stdout",
     "output_type": "stream",
     "text": [
      "<class 'bool'>\n"
     ]
    }
   ],
   "source": [
    "# boolian: True - False\n",
    "b = True\n",
    "print(type(b))"
   ]
  },
  {
   "cell_type": "code",
   "execution_count": 30,
   "metadata": {},
   "outputs": [
    {
     "name": "stdout",
     "output_type": "stream",
     "text": [
      "<class 'str'>\n"
     ]
    }
   ],
   "source": [
    "# input always get a string\n",
    "number = input(\"enter a number\")\n",
    "print(type(number))"
   ]
  },
  {
   "cell_type": "code",
   "execution_count": 38,
   "metadata": {},
   "outputs": [
    {
     "name": "stdout",
     "output_type": "stream",
     "text": [
      "10 type x1:  <class 'str'>\n",
      "10 type x2:  <class 'int'>\n"
     ]
    }
   ],
   "source": [
    "# converting a string to an integer\n",
    "x = \"10\"\n",
    "y = int(x)\n",
    "print(x ,\"type x1: \",type(x))\n",
    "print(y, \"type x2: \",type(y))"
   ]
  },
  {
   "cell_type": "code",
   "execution_count": 41,
   "metadata": {},
   "outputs": [
    {
     "name": "stdout",
     "output_type": "stream",
     "text": [
      "10 type x:  <class 'int'>\n",
      "10 type y:  <class 'str'>\n"
     ]
    }
   ],
   "source": [
    "# converting an integer to a string\n",
    "x = 10\n",
    "y = str(x)\n",
    "print(x ,\"type x: \",type(x))\n",
    "print(y, \"type y: \",type(y))"
   ]
  },
  {
   "cell_type": "code",
   "execution_count": 42,
   "metadata": {},
   "outputs": [
    {
     "name": "stdout",
     "output_type": "stream",
     "text": [
      "1 type x:  <class 'int'>\n",
      "1.0 type y:  <class 'float'>\n"
     ]
    }
   ],
   "source": [
    "# converting an integer to a float\n",
    "x = 1\n",
    "y = float(x)\n",
    "print(x ,\"type x: \",type(x))\n",
    "print(y, \"type y: \",type(y))"
   ]
  },
  {
   "cell_type": "code",
   "execution_count": 43,
   "metadata": {},
   "outputs": [
    {
     "name": "stdout",
     "output_type": "stream",
     "text": [
      "1.3 type x:  <class 'float'>\n",
      "1 type y:  <class 'int'>\n"
     ]
    }
   ],
   "source": [
    "# converting a float to an integer\n",
    "x = 1.3\n",
    "y = int(x)\n",
    "print(x ,\"type x: \",type(x))\n",
    "print(y, \"type y: \",type(y))"
   ]
  },
  {
   "cell_type": "markdown",
   "metadata": {},
   "source": [
    "## strings"
   ]
  },
  {
   "cell_type": "code",
   "execution_count": 24,
   "metadata": {},
   "outputs": [
    {
     "name": "stdout",
     "output_type": "stream",
     "text": [
      "I'm Jack\n"
     ]
    }
   ],
   "source": [
    "# ' in \"\" or \\\" in \"\"\n",
    "print(\"I'm Jack\")\n",
    "print(\"I'm \\\"Jack\\\"\")"
   ]
  },
  {
   "cell_type": "code",
   "execution_count": 26,
   "metadata": {},
   "outputs": [
    {
     "name": "stdout",
     "output_type": "stream",
     "text": [
      "name: Jack\n",
      "lastname: Anderson\n"
     ]
    }
   ],
   "source": [
    "# printing in multiple lines \n",
    "print('''name: Jack\n",
    "lastname: Anderson''')"
   ]
  },
  {
   "cell_type": "code",
   "execution_count": 24,
   "metadata": {},
   "outputs": [
    {
     "name": "stdout",
     "output_type": "stream",
     "text": [
      "next line: \n",
      "name:Jack\n",
      "a tab: \tname:Jack\n"
     ]
    }
   ],
   "source": [
    "# \\n: next line \\t: a tab\n",
    "print(\"next line: \\nname:Jack\")\n",
    "print(\"a tab: \\tname:Jack\")"
   ]
  },
  {
   "cell_type": "code",
   "execution_count": 28,
   "metadata": {},
   "outputs": [
    {
     "name": "stdout",
     "output_type": "stream",
     "text": [
      "name: Jack \n",
      "lastname: Anderson\n"
     ]
    }
   ],
   "source": [
    "# f string method\n",
    "name = \"Jack\"\n",
    "lastname = \"Anderson\"\n",
    "print(f\"name: {name} \\nlastname: {lastname}\")"
   ]
  },
  {
   "cell_type": "code",
   "execution_count": 45,
   "metadata": {},
   "outputs": [
    {
     "name": "stdout",
     "output_type": "stream",
     "text": [
      "Jack Anderson\n"
     ]
    }
   ],
   "source": [
    "# combining two strings\n",
    "name = \"Jack\"\n",
    "lastname = \"Anderson\"\n",
    "fullname = name + \" \" + lastname\n",
    "print(fullname)"
   ]
  },
  {
   "cell_type": "code",
   "execution_count": 26,
   "metadata": {},
   "outputs": [
    {
     "name": "stdout",
     "output_type": "stream",
     "text": [
      "make upper: JACK\n",
      "make lower: jack\n"
     ]
    }
   ],
   "source": [
    "# chaning a string to upper or lower case\n",
    "name = \"Jack\"\n",
    "print(\"making upper:\", name.upper())\n",
    "print(\"making lower:\",name.lower())"
   ]
  },
  {
   "cell_type": "code",
   "execution_count": 11,
   "metadata": {},
   "outputs": [
    {
     "name": "stdout",
     "output_type": "stream",
     "text": [
      "1\n",
      "2\n"
     ]
    }
   ],
   "source": [
    "# counting a character or string in a string\n",
    "name = \"Jack Jackson\"\n",
    "print(name.count('s'))\n",
    "print(name.count('Jack'))"
   ]
  },
  {
   "cell_type": "code",
   "execution_count": 9,
   "metadata": {},
   "outputs": [
    {
     "name": "stdout",
     "output_type": "stream",
     "text": [
      "2\n",
      "7\n"
     ]
    }
   ],
   "source": [
    "# finding a character or string in a string\n",
    "name = \"Jack Locman\"\n",
    "print(name.find('c'))\n",
    "print(name.find('c',4))"
   ]
  },
  {
   "cell_type": "code",
   "execution_count": 5,
   "metadata": {},
   "outputs": [
    {
     "name": "stdout",
     "output_type": "stream",
     "text": [
      "4\n"
     ]
    }
   ],
   "source": [
    "# finding the number a character string in a string\n",
    "name = \"Jack\"\n",
    "print(len(name))"
   ]
  },
  {
   "cell_type": "code",
   "execution_count": 7,
   "metadata": {},
   "outputs": [
    {
     "name": "stdout",
     "output_type": "stream",
     "text": [
      "J\n",
      "Jac\n",
      "J\n",
      "n\n"
     ]
    }
   ],
   "source": [
    "# Slicing Strings\n",
    "fullname = \"Jack Anderson\"\n",
    "print(fullname[0])\n",
    "print(fullname[0:3])\n",
    "print(fullname[0])\n",
    "print(fullname[len(fullname)-1])"
   ]
  },
  {
   "cell_type": "code",
   "execution_count": 13,
   "metadata": {},
   "outputs": [
    {
     "name": "stdout",
     "output_type": "stream",
     "text": [
      "True\n",
      "False\n"
     ]
    }
   ],
   "source": [
    "# String Method in & not in\n",
    "fullname = \"Jack Anderson\"\n",
    "print(\"a\" in fullname)\n",
    "print(\"Jack\" not in fullname)"
   ]
  },
  {
   "cell_type": "markdown",
   "metadata": {},
   "source": [
    "## Python Operators"
   ]
  },
  {
   "cell_type": "code",
   "execution_count": 71,
   "metadata": {},
   "outputs": [
    {
     "name": "stdout",
     "output_type": "stream",
     "text": [
      "2 + 3 = 5\n",
      "2 - 3 = -1\n",
      "2 * 3 = 6\n",
      "2 * 3 = 6\n",
      "3 / 2 = 1.5\n",
      "3 // 2 = 1\n",
      "3 % 2 = 1\n",
      "2 ** 3 = 8\n"
     ]
    }
   ],
   "source": [
    "# Python Arithmetic Operators\n",
    "print(\"2 + 3 =\", 2 + 3)\n",
    "print(\"2 - 3 =\", 2 - 3)\n",
    "print(\"2 * 3 =\", 2 * 3)\n",
    "print(\"2 * 3 =\", 2 * 3)\n",
    "print(\"3 / 2 =\", 3 / 2)\n",
    "print(\"3 // 2 =\", 3 // 2)\n",
    "print(\"3 % 2 =\", 3 % 2)\n",
    "print(\"2 ** 3 =\", 2 ** 3)"
   ]
  },
  {
   "cell_type": "code",
   "execution_count": 72,
   "metadata": {},
   "outputs": [
    {
     "name": "stdout",
     "output_type": "stream",
     "text": [
      "2 = 3: False\n",
      "2 != 3: True\n",
      "2 > 3: False\n",
      "2 < 3: True\n",
      "2 >= 3: False\n",
      "2 <= 3: True\n"
     ]
    }
   ],
   "source": [
    "# Python Comparison Operators\n",
    "print(\"2 = 3:\", 2 == 3)\n",
    "print(\"2 != 3:\", 2 != 3)\n",
    "print(\"2 > 3:\", 2 > 3)\n",
    "print(\"2 < 3:\", 2 < 3)\n",
    "print(\"2 >= 3:\", 2 >= 3)\n",
    "print(\"2 <= 3:\", 2 <= 3)"
   ]
  },
  {
   "cell_type": "code",
   "execution_count": 19,
   "metadata": {},
   "outputs": [
    {
     "name": "stdout",
     "output_type": "stream",
     "text": [
      "a + 1 = 11\n",
      "b - 1 = 10\n",
      "c * 2 = 24\n",
      "d / 2 = 6.5\n",
      "e // 3 = 4\n",
      "f % 2 = 1\n"
     ]
    }
   ],
   "source": [
    "# Python Assignment Operators\n",
    "a , b , c , d , e , f = 10, 11, 12, 13, 14, 15\n",
    "a += 1 \n",
    "b -= 1\n",
    "c *= 2\n",
    "d /= 2\n",
    "e //= 3\n",
    "f %= 2\n",
    "print(\"a + 1 =\", a)\n",
    "print(\"b - 1 =\", b)\n",
    "print(\"c * 2 =\", c)\n",
    "print(\"d / 2 =\", d)\n",
    "print(\"e // 3 =\", e)\n",
    "print(\"f % 2 =\", f)"
   ]
  },
  {
   "cell_type": "markdown",
   "metadata": {},
   "source": [
    "## lists"
   ]
  },
  {
   "cell_type": "code",
   "execution_count": 11,
   "metadata": {},
   "outputs": [
    {
     "name": "stdout",
     "output_type": "stream",
     "text": [
      "['apple', 'banana', 'cherry']\n",
      "number of items: 3\n"
     ]
    }
   ],
   "source": [
    "# list and List Length\n",
    "mylist = [\"apple\", \"banana\", \"cherry\"]\n",
    "print(mylist)\n",
    "print(\"number of items:\",len(mylist))"
   ]
  },
  {
   "cell_type": "code",
   "execution_count": 10,
   "metadata": {},
   "outputs": [
    {
     "name": "stdout",
     "output_type": "stream",
     "text": [
      "items of the list: ['apple', 'lemon', 'cherry', 'banana']\n",
      "first item: apple\n",
      "last item: banana\n",
      "items in range of 1st to 3rd: ['apple', 'lemon', 'cherry']\n",
      "items in range of 2st to end: ['lemon', 'cherry', 'banana']\n",
      "items in range of first to 3rd: ['apple', 'lemon', 'cherry']\n"
     ]
    }
   ],
   "source": [
    "# Access List Items\n",
    "mylist = [\"apple\", \"lemon\", \"cherry\", \"banana\"]\n",
    "print(\"items of the list:\",mylist[:])\n",
    "print(\"first item:\",mylist[0])\n",
    "print(\"last item:\",mylist[-1])\n",
    "print(\"items in range of 1st to 3rd:\",mylist[0:3])\n",
    "print(\"items in range of 2st to end:\",mylist[1:])\n",
    "print(\"items in range of first to 3rd:\",mylist[:3])"
   ]
  },
  {
   "cell_type": "code",
   "execution_count": 12,
   "metadata": {},
   "outputs": [
    {
     "name": "stdout",
     "output_type": "stream",
     "text": [
      "first letter of the second name: J\n"
     ]
    }
   ],
   "source": [
    "# Access List Items\n",
    "mylist = [\"David\", \"James\", \"Donald\"]\n",
    "print(\"first letter of the second name:\",mylist[1][0])"
   ]
  },
  {
   "cell_type": "code",
   "execution_count": 14,
   "metadata": {},
   "outputs": [
    {
     "name": "stdout",
     "output_type": "stream",
     "text": [
      "third item of the second list: Donald\n"
     ]
    }
   ],
   "source": [
    "# Access List Items\n",
    "mylist = [[1,2,3],[\"David\", \"James\", \"Donald\"]]\n",
    "print(\"third item of the second list:\",mylist[1][2])"
   ]
  },
  {
   "cell_type": "code",
   "execution_count": 15,
   "metadata": {},
   "outputs": [
    {
     "name": "stdout",
     "output_type": "stream",
     "text": [
      "combind list: [1, 'apple', True, (3+4j), 'Donald']\n"
     ]
    }
   ],
   "source": [
    "list1 = [1,\"apple\",True]\n",
    "list2 = [3+4j, \"Donald\"]\n",
    "print(\"combind list:\",list1 + list2)"
   ]
  }
 ],
 "metadata": {
  "kernelspec": {
   "display_name": "Python 3.7.0 64-bit",
   "language": "python",
   "name": "python3"
  },
  "language_info": {
   "codemirror_mode": {
    "name": "ipython",
    "version": 3
   },
   "file_extension": ".py",
   "mimetype": "text/x-python",
   "name": "python",
   "nbconvert_exporter": "python",
   "pygments_lexer": "ipython3",
   "version": "3.7.0"
  },
  "orig_nbformat": 4,
  "vscode": {
   "interpreter": {
    "hash": "5109d816b82be14675a6b11f8e0f0d2e80f029176ed3710d54e125caa8520dfd"
   }
  }
 },
 "nbformat": 4,
 "nbformat_minor": 2
}
